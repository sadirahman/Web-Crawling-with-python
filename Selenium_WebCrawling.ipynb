{
 "cells": [
  {
   "cell_type": "code",
   "execution_count": 1,
   "metadata": {},
   "outputs": [],
   "source": [
    "import selenium\n",
    "from selenium import webdriver as wb\n",
    "webD=wb.Chrome('C:/Users/Sun of sadi/PycharmProjects/Web_Crawler/chromedriver.exe')\n",
    "webD.get('https://webscraper.io/test-sites/e-commerce/static')"
   ]
  },
  {
   "cell_type": "code",
   "execution_count": 2,
   "metadata": {},
   "outputs": [],
   "source": [
    "clickObj=webD.find_element_by_xpath('//*[@id=\"side-menu\"]/li[2]/a')\n",
    "clickObj.click()"
   ]
  },
  {
   "cell_type": "code",
   "execution_count": 3,
   "metadata": {},
   "outputs": [],
   "source": [
    "webD.find_element_by_xpath('//*[@id=\"side-menu\"]/li[2]/ul/li[1]/a').click()"
   ]
  },
  {
   "cell_type": "code",
   "execution_count": 4,
   "metadata": {},
   "outputs": [],
   "source": [
    "ll=webD.find_element_by_xpath('/html/body/div[1]/div[3]/div/div[2]/div')"
   ]
  },
  {
   "cell_type": "code",
   "execution_count": 5,
   "metadata": {},
   "outputs": [],
   "source": [
    "productInfoList=webD.find_elements_by_class_name('thumbnail')"
   ]
  },
  {
   "cell_type": "code",
   "execution_count": 6,
   "metadata": {},
   "outputs": [],
   "source": [
    "listOflinks=[]\n",
    "for el in productInfoList:\n",
    "    ppp1=el.find_elements_by_tag_name('h4')[-1]\n",
    "    pp2=ppp1.find_element_by_tag_name('a')\n",
    "    listOflinks.append(pp2.get_property('href'))"
   ]
  },
  {
   "cell_type": "code",
   "execution_count": null,
   "metadata": {},
   "outputs": [],
   "source": [
    "listOflinks=[]\n",
    "condition=True\n",
    "while condition:\n",
    "    productInfoList=webD.find_elements_by_class_name('thumbnail')\n",
    "    for el in productInfoList:\n",
    "        ppp1=el.find_elements_by_tag_name('h4')[-1]\n",
    "        pp2=ppp1.find_element_by_tag_name('a')\n",
    "        listOflinks.append(pp2.get_property('href'))\n",
    "    try:\n",
    "#         webD.find_element_by_xpath('/html/body/div[1]/div[3]/div/div[2]/ul/li[13]/a').click()\n",
    "        webD.find_element_by_class_name('page-link').click()\n",
    "    except:\n",
    "        condition=False"
   ]
  },
  {
   "cell_type": "code",
   "execution_count": 34,
   "metadata": {},
   "outputs": [
    {
     "data": {
      "text/plain": [
       "['https://webscraper.io/test-sites/e-commerce/static/product/522',\n",
       " 'https://webscraper.io/test-sites/e-commerce/static/product/523',\n",
       " 'https://webscraper.io/test-sites/e-commerce/static/product/524',\n",
       " 'https://webscraper.io/test-sites/e-commerce/static/product/525',\n",
       " 'https://webscraper.io/test-sites/e-commerce/static/product/526',\n",
       " 'https://webscraper.io/test-sites/e-commerce/static/product/527']"
      ]
     },
     "execution_count": 34,
     "metadata": {},
     "output_type": "execute_result"
    }
   ],
   "source": [
    "webD.find_element_by_class_name('page-link').click()\n",
    "\n",
    "listOflinks"
   ]
  },
  {
   "cell_type": "code",
   "execution_count": 12,
   "metadata": {},
   "outputs": [],
   "source": [
    "allInfo=webD.find_elements_by_xpath('//*[@class=\"thumbnail\"]')"
   ]
  },
  {
   "cell_type": "code",
   "execution_count": 13,
   "metadata": {},
   "outputs": [],
   "source": [
    "hrefLinkList=[]\n",
    "condition=True\n",
    "while condition:\n",
    "    allInfo=webD.find_elements_by_xpath('//*[@class=\"thumbnail\"]')\n",
    "    \n",
    "    for eEle in allInfo:\n",
    "        hrefLink=eEle.find_elements_by_css_selector('h4')[-1].find_element_by_tag_name('a').get_property('href')\n",
    "        hrefLinkList.append(hrefLink)\n",
    "    try:\n",
    "        webD.find_elements_by_xpath('//*[@class=\"page-link\"]')[-1].click()\n",
    "    except:\n",
    "        condition=False"
   ]
  },
  {
   "cell_type": "code",
   "execution_count": 14,
   "metadata": {},
   "outputs": [
    {
     "data": {
      "text/plain": [
       "6"
      ]
     },
     "execution_count": 14,
     "metadata": {},
     "output_type": "execute_result"
    }
   ],
   "source": [
    "len(hrefLinkList)"
   ]
  },
  {
   "cell_type": "code",
   "execution_count": 15,
   "metadata": {},
   "outputs": [
    {
     "data": {
      "text/plain": [
       "'https://webscraper.io/test-sites/e-commerce/static/product/516'"
      ]
     },
     "execution_count": 15,
     "metadata": {},
     "output_type": "execute_result"
    }
   ],
   "source": [
    "hrefLinkList[0]"
   ]
  },
  {
   "cell_type": "code",
   "execution_count": 16,
   "metadata": {},
   "outputs": [],
   "source": [
    "webD.get(hrefLinkList[0])"
   ]
  },
  {
   "cell_type": "code",
   "execution_count": 18,
   "metadata": {},
   "outputs": [],
   "source": [
    "nameOftheProduct=webD.find_element_by_xpath('/html/body/div[1]/div[3]/div/div[2]/div/div[1]/div/div[1]/h4[2]/a').text\n",
    "priceoftheProduct=webD.find_element_by_xpath('/html/body/div[1]/div[3]/div/div[2]/div/div[1]/div/div[1]/h4[1]').text\n",
    "descOfProduct=webD.find_element_by_xpath('/html/body/div[1]/div[3]/div/div[2]/div/div[1]/div/div[1]/p').text\n",
    "revOfProduct=webD.find_element_by_xpath('/html/body/div[1]/div[3]/div/div[2]/div/div[1]/div/div[2]/p[1]').text"
   ]
  },
  {
   "cell_type": "code",
   "execution_count": 19,
   "metadata": {},
   "outputs": [],
   "source": [
    "tempJ={'nameOftheProduct':nameOftheProduct,\n",
    "      'priceoftheProduct':priceoftheProduct,\n",
    "      'descOfProduct':descOfProduct,\n",
    "      'revOfProduct':revOfProduct}"
   ]
  },
  {
   "cell_type": "code",
   "execution_count": 27,
   "metadata": {},
   "outputs": [
    {
     "name": "stderr",
     "output_type": "stream",
     "text": [
      "100%|████████████████████████████████████████████████████████████████████████████████████| 6/6 [00:09<00:00,  1.61s/it]\n"
     ]
    }
   ],
   "source": [
    "from tqdm import tqdm\n",
    "overallinfo=[]\n",
    "for i in tqdm(hrefLinkList):\n",
    "    webD.get(i)\n",
    "    nameOftheProduct=webD.find_element_by_xpath('/html/body/div[1]/div[3]/div/div[2]/div/div/div[2]/div[1]/h4[2]').text\n",
    "    priceoftheProduct=webD.find_element_by_xpath('/html/body/div[1]/div[3]/div/div[2]/div/div/div[2]/div[1]/h4[1]').text\n",
    "    descOfProduct=webD.find_element_by_xpath('/html/body/div[1]/div[3]/div/div[2]/div/div/div[2]/div[1]/p').text\n",
    "    revOfProduct=webD.find_element_by_xpath('/html/body/div[1]/div[3]/div/div[2]/div/div/div[2]/div[3]/p').text\n",
    "    tempJ={'nameOftheProduct':nameOftheProduct,\n",
    "          'priceoftheProduct':priceoftheProduct,\n",
    "          'descOfProduct':descOfProduct,\n",
    "          'revOfProduct':revOfProduct,\n",
    "          'hyperlink':i}\n",
    "    overallinfo.append(tempJ)\n"
   ]
  },
  {
   "cell_type": "code",
   "execution_count": 28,
   "metadata": {},
   "outputs": [
    {
     "data": {
      "text/html": [
       "<div>\n",
       "<style scoped>\n",
       "    .dataframe tbody tr th:only-of-type {\n",
       "        vertical-align: middle;\n",
       "    }\n",
       "\n",
       "    .dataframe tbody tr th {\n",
       "        vertical-align: top;\n",
       "    }\n",
       "\n",
       "    .dataframe thead th {\n",
       "        text-align: right;\n",
       "    }\n",
       "</style>\n",
       "<table border=\"1\" class=\"dataframe\">\n",
       "  <thead>\n",
       "    <tr style=\"text-align: right;\">\n",
       "      <th></th>\n",
       "      <th>nameOftheProduct</th>\n",
       "      <th>priceoftheProduct</th>\n",
       "      <th>descOfProduct</th>\n",
       "      <th>revOfProduct</th>\n",
       "      <th>hyperlink</th>\n",
       "    </tr>\n",
       "  </thead>\n",
       "  <tbody>\n",
       "    <tr>\n",
       "      <td>0</td>\n",
       "      <td>Packard 255 G2</td>\n",
       "      <td>$416.99</td>\n",
       "      <td>15.6\", AMD E2-3800 1.3GHz, 4GB, 500GB, Windows...</td>\n",
       "      <td>2 reviews</td>\n",
       "      <td>https://webscraper.io/test-sites/e-commerce/st...</td>\n",
       "    </tr>\n",
       "    <tr>\n",
       "      <td>1</td>\n",
       "      <td>Aspire E1-510</td>\n",
       "      <td>$306.99</td>\n",
       "      <td>15.6\", Pentium N3520 2.16GHz, 4GB, 500GB, Linux</td>\n",
       "      <td>2 reviews</td>\n",
       "      <td>https://webscraper.io/test-sites/e-commerce/st...</td>\n",
       "    </tr>\n",
       "    <tr>\n",
       "      <td>2</td>\n",
       "      <td>ThinkPad T540p</td>\n",
       "      <td>$1178.99</td>\n",
       "      <td>15.6\", Core i5-4200M, 4GB, 500GB, Win7 Pro 64bit</td>\n",
       "      <td>2 reviews</td>\n",
       "      <td>https://webscraper.io/test-sites/e-commerce/st...</td>\n",
       "    </tr>\n",
       "    <tr>\n",
       "      <td>3</td>\n",
       "      <td>ProBook</td>\n",
       "      <td>$739.99</td>\n",
       "      <td>14\", Core i5 2.6GHz, 4GB, 500GB, Win7 Pro 64bit</td>\n",
       "      <td>8 reviews</td>\n",
       "      <td>https://webscraper.io/test-sites/e-commerce/st...</td>\n",
       "    </tr>\n",
       "    <tr>\n",
       "      <td>4</td>\n",
       "      <td></td>\n",
       "      <td>$1311.99</td>\n",
       "      <td>12.5\", Core i5-4300U, 8GB, 240GB SSD, Win7 Pro...</td>\n",
       "      <td>12 reviews</td>\n",
       "      <td>https://webscraper.io/test-sites/e-commerce/st...</td>\n",
       "    </tr>\n",
       "    <tr>\n",
       "      <td>5</td>\n",
       "      <td>Aspire E1-572G</td>\n",
       "      <td>$581.99</td>\n",
       "      <td>15.6\", Core i5-4200U, 8GB, 1TB, Radeon R7 M265...</td>\n",
       "      <td>2 reviews</td>\n",
       "      <td>https://webscraper.io/test-sites/e-commerce/st...</td>\n",
       "    </tr>\n",
       "  </tbody>\n",
       "</table>\n",
       "</div>"
      ],
      "text/plain": [
       "  nameOftheProduct priceoftheProduct  \\\n",
       "0   Packard 255 G2           $416.99   \n",
       "1    Aspire E1-510           $306.99   \n",
       "2   ThinkPad T540p          $1178.99   \n",
       "3          ProBook           $739.99   \n",
       "4                           $1311.99   \n",
       "5   Aspire E1-572G           $581.99   \n",
       "\n",
       "                                       descOfProduct revOfProduct  \\\n",
       "0  15.6\", AMD E2-3800 1.3GHz, 4GB, 500GB, Windows...    2 reviews   \n",
       "1    15.6\", Pentium N3520 2.16GHz, 4GB, 500GB, Linux    2 reviews   \n",
       "2   15.6\", Core i5-4200M, 4GB, 500GB, Win7 Pro 64bit    2 reviews   \n",
       "3    14\", Core i5 2.6GHz, 4GB, 500GB, Win7 Pro 64bit    8 reviews   \n",
       "4  12.5\", Core i5-4300U, 8GB, 240GB SSD, Win7 Pro...   12 reviews   \n",
       "5  15.6\", Core i5-4200U, 8GB, 1TB, Radeon R7 M265...    2 reviews   \n",
       "\n",
       "                                           hyperlink  \n",
       "0  https://webscraper.io/test-sites/e-commerce/st...  \n",
       "1  https://webscraper.io/test-sites/e-commerce/st...  \n",
       "2  https://webscraper.io/test-sites/e-commerce/st...  \n",
       "3  https://webscraper.io/test-sites/e-commerce/st...  \n",
       "4  https://webscraper.io/test-sites/e-commerce/st...  \n",
       "5  https://webscraper.io/test-sites/e-commerce/st...  "
      ]
     },
     "execution_count": 28,
     "metadata": {},
     "output_type": "execute_result"
    }
   ],
   "source": [
    "import pandas as pd\n",
    "pd.DataFrame(overallinfo)"
   ]
  },
  {
   "cell_type": "code",
   "execution_count": null,
   "metadata": {},
   "outputs": [],
   "source": []
  }
 ],
 "metadata": {
  "kernelspec": {
   "display_name": "Python 3",
   "language": "python",
   "name": "python3"
  },
  "language_info": {
   "codemirror_mode": {
    "name": "ipython",
    "version": 3
   },
   "file_extension": ".py",
   "mimetype": "text/x-python",
   "name": "python",
   "nbconvert_exporter": "python",
   "pygments_lexer": "ipython3",
   "version": "3.7.4"
  }
 },
 "nbformat": 4,
 "nbformat_minor": 2
}
